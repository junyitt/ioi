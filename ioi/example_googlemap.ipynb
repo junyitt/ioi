{
 "cells": [
  {
   "cell_type": "code",
   "execution_count": 1,
   "metadata": {},
   "outputs": [],
   "source": [
    "# Importing required libraries \n",
    "from googleplaces import GooglePlaces, types, lang \n",
    "import requests \n",
    "import json\n",
    "from search.landmark import *\n",
    "import plotly\n",
    "import plotly.graph_objects as go"
   ]
  },
  {
   "cell_type": "code",
   "execution_count": 2,
   "metadata": {},
   "outputs": [
    {
     "name": "stdout",
     "output_type": "stream",
     "text": [
      "CPU times: user 169 ms, sys: 25.7 ms, total: 195 ms\n",
      "Wall time: 5.45 s\n"
     ]
    }
   ],
   "source": [
    "%%time\n",
    "st = [\"lumi tropicana\", \"pj midtown\",\"121 residences\"]\n",
    "st = [\"lumi tropicana\", \"pj midtown\"]\n",
    "# L = Landmark(search_term = st, r = 2)\n",
    "# df1 = L.fdf\n",
    "g = gLandmark(search_term = st, r = 2)\n",
    "df2 = g.fdf\n"
   ]
  },
  {
   "cell_type": "code",
   "execution_count": 3,
   "metadata": {},
   "outputs": [],
   "source": [
    "# key = open('google_token.txt').read()\n",
    "# google_places = GooglePlaces(key) \n",
    "# g = gLandmark(search_term = ['ryan and miho petaling jaya', 'klcc'], r = 2)"
   ]
  },
  {
   "cell_type": "code",
   "execution_count": 4,
   "metadata": {},
   "outputs": [],
   "source": [
    "# symbol_map = {\"mall\": \"shop\", \"lrt\": \"rail-light\", \"park\": \"park\", \"coffee\": \"cafe\", \"restaurant\": \"restaurant\", \"radi*\": \"circle\"}\n",
    "# df2[\"symbol\"] = df2[\"category\"].replace(regex = symbol_map, method = None)"
   ]
  },
  {
   "cell_type": "code",
   "execution_count": 5,
   "metadata": {},
   "outputs": [
    {
     "data": {
      "text/plain": [
       "array(['lrt', 'park', 'mall', 'coffee', 'restaurant', 'lumi tropicana',\n",
       "       'area: lumi tropicana', 'mrt', 'pj midtown', 'area: pj midtown'],\n",
       "      dtype=object)"
      ]
     },
     "execution_count": 5,
     "metadata": {},
     "output_type": "execute_result"
    }
   ],
   "source": [
    "df2[\"category\"].unique()"
   ]
  },
  {
   "cell_type": "code",
   "execution_count": 39,
   "metadata": {},
   "outputs": [],
   "source": []
  },
  {
   "cell_type": "code",
   "execution_count": 45,
   "metadata": {},
   "outputs": [],
   "source": []
  },
  {
   "cell_type": "code",
   "execution_count": 47,
   "metadata": {},
   "outputs": [
    {
     "data": {
      "text/plain": [
       "'rgba(5, 14, 110, 0.1)'"
      ]
     },
     "execution_count": 47,
     "metadata": {},
     "output_type": "execute_result"
    }
   ],
   "source": [
    "mapbox_access_token = open(\"mapbox_token.txt\").read()"
   ]
  },
  {
   "cell_type": "code",
   "execution_count": 53,
   "metadata": {},
   "outputs": [
    {
     "data": {
      "text/plain": [
       "'filename_test.html'"
      ]
     },
     "execution_count": 53,
     "metadata": {},
     "output_type": "execute_result"
    }
   ],
   "source": [
    "u1 = df2[\"category\"].str.contains('|'.join(st))\n",
    "st_df0 = df2.loc[u1]\n",
    "area_df = df2.loc[df2[\"category\"].str.contains(\"area:\")]\n",
    "st_df = df2.loc[df2[\"category\"].isin(st)]\n",
    "POI_SEARCH_TERMS = [\"mrt\", \"lrt\", \"park\", \"mall\", \"coffee\", \"restaurant\"]\n",
    "poi_df = df2.loc[df2[\"category\"].isin(POI_SEARCH_TERMS)]\n",
    "\n",
    "fig = go.Figure()\n",
    "\n",
    "## SEARCH TERM\n",
    "for add_j in st_df.address_short.unique():\n",
    "    u1 = st_df.address_short == add_j\n",
    "    st_df_sub = st_df.loc[u1]\n",
    "    fig.add_trace(go.Scattermapbox(\n",
    "            lat=st_df_sub[\"lat\"],\n",
    "            lon=st_df_sub[\"lng\"],\n",
    "            legendgroup=st_df_sub[\"legendgroup\"].values[0],\n",
    "            name=st_df_sub[\"legendgroup\"].values[0],\n",
    "            mode='markers',\n",
    "            marker=go.scattermapbox.Marker(\n",
    "                symbol=\"star\",\n",
    "                size=st_df_sub[\"size\"],\n",
    "                color=st_df_sub[\"color\"],\n",
    "                opacity=0.8\n",
    "            ),\n",
    "            text = st_df_sub[\"address\"]\n",
    "        ))\n",
    "\n",
    "for area_j in area_df.category.unique():\n",
    "    u1 = area_df.category == area_j\n",
    "    area_df_sub = area_df.loc[u1]\n",
    "    fig.add_trace(\n",
    "        go.Scattermapbox(\n",
    "            mode = \"lines\", \n",
    "            fill = \"toself\",\n",
    "            fillcolor = area_df_sub[\"color\"].apply(lambda x: hex_to_rgb(x, 0.1)).tolist()[0],\n",
    "            legendgroup=area_df_sub[\"legendgroup\"].values[0],\n",
    "            name=area_df_sub[\"legendgroup\"].values[0],\n",
    "#             marker = dict(\n",
    "#                 color = area_df_sub[\"color\"].apply(lambda x: hex_to_rgb(x, 0.1)).tolist(),\n",
    "#             ),\n",
    "            lat = area_df_sub[\"lat\"].tolist(),\n",
    "            lon = area_df_sub[\"lng\"].tolist(),\n",
    "        )\n",
    "    )\n",
    "\n",
    "\n",
    "## POI\n",
    "for cat_j in poi_df.category.unique():\n",
    "    u1 = poi_df.category == cat_j\n",
    "    poi_df_sub = poi_df.loc[u1]\n",
    "    fig.add_trace(go.Scattermapbox(\n",
    "            lat=poi_df_sub[\"lat\"],\n",
    "            lon=poi_df_sub[\"lng\"],\n",
    "            legendgroup=poi_df_sub[\"category\"].values[0],\n",
    "            name=poi_df_sub[\"category\"].values[0],\n",
    "            mode='markers',\n",
    "            marker=go.scattermapbox.Marker(\n",
    "                symbol=\"circle\",\n",
    "                size=poi_df_sub[\"size\"]+6,\n",
    "                color=poi_df_sub[\"color\"],\n",
    "                opacity=0.8\n",
    "            ),\n",
    "            text = poi_df_sub[\"address\"]\n",
    "        ))\n",
    "fig.update_layout(\n",
    "    title='Nuclear Waste Sites on Campus',\n",
    "    autosize=True,\n",
    "    width=1200,\n",
    "    height=800,\n",
    "    hovermode='closest',\n",
    "    showlegend=True,\n",
    "    \n",
    "    mapbox=dict(\n",
    "        accesstoken=mapbox_access_token,\n",
    "        bearing=0,\n",
    "        center=dict(\n",
    "            lat=site_lat.values[0],\n",
    "            lon=site_lon.values[0]\n",
    "        ),\n",
    "        pitch=0,\n",
    "        zoom=12,\n",
    "#         size_max = 25,\n",
    "#         style='light'\n",
    "    ),\n",
    ")\n",
    "# fig.show()\n",
    "plotly.offline.plot(fig, filename = 'filename_test.html', auto_open=True)"
   ]
  },
  {
   "cell_type": "code",
   "execution_count": 36,
   "metadata": {},
   "outputs": [
    {
     "data": {
      "text/html": [
       "<div>\n",
       "<style scoped>\n",
       "    .dataframe tbody tr th:only-of-type {\n",
       "        vertical-align: middle;\n",
       "    }\n",
       "\n",
       "    .dataframe tbody tr th {\n",
       "        vertical-align: top;\n",
       "    }\n",
       "\n",
       "    .dataframe thead th {\n",
       "        text-align: right;\n",
       "    }\n",
       "</style>\n",
       "<table border=\"1\" class=\"dataframe\">\n",
       "  <thead>\n",
       "    <tr style=\"text-align: right;\">\n",
       "      <th></th>\n",
       "      <th>category</th>\n",
       "      <th>category2</th>\n",
       "      <th>address</th>\n",
       "      <th>lat</th>\n",
       "      <th>lng</th>\n",
       "      <th>legendgroup</th>\n",
       "      <th>name</th>\n",
       "      <th>address_short</th>\n",
       "      <th>size</th>\n",
       "      <th>color</th>\n",
       "    </tr>\n",
       "  </thead>\n",
       "  <tbody>\n",
       "  </tbody>\n",
       "</table>\n",
       "</div>"
      ],
      "text/plain": [
       "Empty DataFrame\n",
       "Columns: [category, category2, address, lat, lng, legendgroup, name, address_short, size, color]\n",
       "Index: []"
      ]
     },
     "execution_count": 36,
     "metadata": {},
     "output_type": "execute_result"
    }
   ],
   "source": [
    "poi_df"
   ]
  },
  {
   "cell_type": "code",
   "execution_count": null,
   "metadata": {},
   "outputs": [],
   "source": [
    "%%time\n",
    "plotly.offline.plot(g.plot(), filename = 'filename_3b.html', auto_open=True)"
   ]
  },
  {
   "cell_type": "code",
   "execution_count": null,
   "metadata": {},
   "outputs": [],
   "source": [
    "fig = g.plot()"
   ]
  },
  {
   "cell_type": "code",
   "execution_count": null,
   "metadata": {},
   "outputs": [],
   "source": [
    "%%time\n",
    "# plotly.offline.plot(L.plot(), filename = 'filename_3a.html', auto_open=True)\n"
   ]
  },
  {
   "cell_type": "code",
   "execution_count": null,
   "metadata": {},
   "outputs": [],
   "source": [
    "# fig[\"data\"]"
   ]
  },
  {
   "cell_type": "code",
   "execution_count": null,
   "metadata": {},
   "outputs": [],
   "source": []
  },
  {
   "cell_type": "code",
   "execution_count": null,
   "metadata": {},
   "outputs": [],
   "source": [
    "i = [3.1390, 101.6869]\n",
    "bbox = get_bbox(i, 200)\n",
    "g = geocoder.mapbox('121 residences damansara pju', bbox= bbox, key=L.key)"
   ]
  },
  {
   "cell_type": "code",
   "execution_count": null,
   "metadata": {},
   "outputs": [],
   "source": [
    "# !pip install colorlover"
   ]
  },
  {
   "cell_type": "code",
   "execution_count": null,
   "metadata": {},
   "outputs": [],
   "source": [
    "for k in g:\n",
    "    print(k)"
   ]
  },
  {
   "cell_type": "code",
   "execution_count": null,
   "metadata": {},
   "outputs": [],
   "source": [
    "fig = px.scatter_mapbox(fdf, lat=\"lat\", lon=\"lng\", color=\"category\", size = \"size\",\n",
    "                        size_max=25, zoom=20, \n",
    "                        text=\"address_short\")\n",
    "\n",
    "fig.update_layout(\n",
    "    autosize=True,\n",
    "    hovermode='closest',\n",
    "    mapbox=dict(\n",
    "        accesstoken=mapbox_access_token,\n",
    "        bearing=0,\n",
    "        center=dict(\n",
    "            lat=latlng[0],\n",
    "            lon=latlng[1]\n",
    "        ),\n",
    "        pitch=0,\n",
    "        zoom=12\n",
    "    ),\n",
    ")\n",
    "\n",
    "## SAVE\n",
    "plotly.offline.plot(fig, filename = 'filename_2.html', auto_open=True)"
   ]
  },
  {
   "cell_type": "code",
   "execution_count": null,
   "metadata": {},
   "outputs": [],
   "source": []
  },
  {
   "cell_type": "code",
   "execution_count": null,
   "metadata": {},
   "outputs": [],
   "source": [
    "df2"
   ]
  },
  {
   "cell_type": "code",
   "execution_count": null,
   "metadata": {},
   "outputs": [],
   "source": [
    "\n",
    "# This is the way to make api requests \n",
    "# using python requests library \n",
    "  \n",
    "# Use your own API key for making api request calls \n",
    "API_KEY = open(\"google_token.txt\").read()\n",
    "  \n",
    "# Initialising the GooglePlaces constructor \n",
    "google_places = GooglePlaces(API_KEY) \n",
    "  \n",
    "# call the function nearby search with \n",
    "# the parameters as longitude, latitude, \n",
    "# radius and type of place which needs to be searched of  \n",
    "# type can be HOSPITAL, CAFE, BAR, CASINO, etc \n",
    "query_result = google_places.nearby_search( \n",
    "        lat_lng ={'lat': 3.111294, 'lng': 101.631702}, \n",
    "        radius = 500, \n",
    "        name='coffee',\n",
    "        # types =[types.TYPE_HOSPITAL] or \n",
    "        # [types.TYPE_CAFE] or [type.TYPE_BAR] \n",
    "        # or [type.TYPE_CASINO]) \n",
    "        types =[types.TYPE_POINT_OF_INTEREST]) \n",
    "  \n",
    "# If any attributions related  \n",
    "# with search results print them \n",
    "if query_result.has_attributions: \n",
    "    print (query_result.html_attributions) \n",
    "  \n",
    "  \n",
    "# Iterate over the search results \n",
    "z = {\"a\":1}\n",
    "for place in query_result.places: \n",
    "    # print(type(place)) \n",
    "    # place.get_details() \n",
    "    print (place.name) \n",
    "    z[\"a\"] = float(place.geo_location['lat'])\n",
    "    print(z)\n",
    "    print(\"Latitude\", place.geo_location['lat']) \n",
    "    print(\"Longitude\", place.geo_location['lng']) \n",
    "    print()"
   ]
  },
  {
   "cell_type": "code",
   "execution_count": null,
   "metadata": {},
   "outputs": [],
   "source": []
  }
 ],
 "metadata": {
  "kernelspec": {
   "display_name": "Python 3",
   "language": "python",
   "name": "python3"
  },
  "language_info": {
   "codemirror_mode": {
    "name": "ipython",
    "version": 3
   },
   "file_extension": ".py",
   "mimetype": "text/x-python",
   "name": "python",
   "nbconvert_exporter": "python",
   "pygments_lexer": "ipython3",
   "version": "3.7.6"
  }
 },
 "nbformat": 4,
 "nbformat_minor": 4
}
